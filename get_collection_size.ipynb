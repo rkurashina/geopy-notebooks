{
 "cells": [
  {
   "cell_type": "code",
   "execution_count": null,
   "id": "5922863d-d709-4cd4-bf31-f629b9fea18a",
   "metadata": {},
   "outputs": [],
   "source": [
    "import geemap \n",
    "import os \n",
    "import ee"
   ]
  },
  {
   "cell_type": "code",
   "execution_count": null,
   "id": "722b7ddf-27f9-46eb-8fc4-1f3754876039",
   "metadata": {},
   "outputs": [],
   "source": [
    "map = geemap.Map()\n",
    "region = ee.Geometry.BBox(-9.66, 3.83, -1.28, 11.1)\n",
    "point = ee.Geometry.Point(-7, 5)\n",
    "map.centerObject(region, zoom=7)\n",
    "map"
   ]
  },
  {
   "cell_type": "code",
   "execution_count": null,
   "id": "582b09c6-2304-4a38-b5e0-eb3c6505516f",
   "metadata": {},
   "outputs": [],
   "source": [
    "collection_name = 'COPERNICUS/S2_SR_HARMONIZED'\n",
    "dataset = ee.ImageCollection(collection_name).filterBounds(region)            \n",
    "\n",
    "n_images = dataset.size().getInfo()\n",
    "print(n_images)\n",
    "\n",
    "dataset_point = ee.ImageCollection('COPERNICUS/S2_SR_HARMONIZED').filterBounds(point)\n",
    "geemap.ee_export_image_collection(dataset_point, out_dir='D:/Books/geopy-notebooks/images')"
   ]
  },
  {
   "cell_type": "code",
   "execution_count": null,
   "id": "c0684a33-a492-4719-98f9-ce6db9c1bf82",
   "metadata": {},
   "outputs": [],
   "source": [
    "image_size = 217916465 # Sentinel 2A\n",
    "\n",
    "required_storage = n_images*image_size/1024**4 # in TBs\n",
    "print('%.2f' % required_storage, 'TB')"
   ]
  }
 ],
 "metadata": {
  "kernelspec": {
   "display_name": "Python 3 (ipykernel)",
   "language": "python",
   "name": "python3"
  },
  "language_info": {
   "codemirror_mode": {
    "name": "ipython",
    "version": 3
   },
   "file_extension": ".py",
   "mimetype": "text/x-python",
   "name": "python",
   "nbconvert_exporter": "python",
   "pygments_lexer": "ipython3",
   "version": "3.9.15"
  }
 },
 "nbformat": 4,
 "nbformat_minor": 5
}
