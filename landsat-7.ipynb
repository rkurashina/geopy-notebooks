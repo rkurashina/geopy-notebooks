{
 "cells": [
  {
   "cell_type": "code",
   "execution_count": 5,
   "id": "ecc2e3a4-46d6-43a5-bd9e-8e2ace4eef00",
   "metadata": {},
   "outputs": [],
   "source": [
    "import geemap \n",
    "import os \n",
    "import ee\n",
    "import numpy as np"
   ]
  },
  {
   "cell_type": "code",
   "execution_count": 6,
   "id": "e4030743-5876-41c5-8e41-a2788dd779ee",
   "metadata": {},
   "outputs": [],
   "source": [
    "# Applies scaling factors.\n",
    "def applyScaleFactors(image):\n",
    "  opticalBands = image.select('SR_B.').multiply(0.0000275).add(-0.2)\n",
    "  thermalBand = image.select('ST_B6').multiply(0.00341802).add(149.0)\n",
    "  return image.addBands(opticalBands, None, True) \\\n",
    "              .addBands(thermalBand, None, True)"
   ]
  },
  {
   "cell_type": "code",
   "execution_count": 7,
   "id": "224efd7c-f796-4b4a-a8e2-19f2b329467f",
   "metadata": {},
   "outputs": [],
   "source": [
    "ee.Initialize()"
   ]
  },
  {
   "cell_type": "markdown",
   "id": "4e03353b-b82f-42dd-a3a8-e6ea19378828",
   "metadata": {},
   "source": [
    "## Draw map centered on Ivory Coast\n",
    "- We can draw a region of interest to spatially filter the data "
   ]
  },
  {
   "cell_type": "code",
   "execution_count": 22,
   "id": "4cbed066-1f24-4fc9-bad1-95e7dab82e52",
   "metadata": {},
   "outputs": [],
   "source": [
    "# Parameters\n",
    "collection = {'name': 'LANDSAT/LE07/C02/T1_L2', 'year range': [1999, 2022]} # Landsat 7\n",
    "# collection = {'name': 'LANDSAT/LC08/C02/T1_L2', 'year range': [2013, 2023]} # Landsat 8\n",
    "# collection = {'name': 'LANDSAT/LC09/C02/T1_L2', 'year range': [2021, 2023]} # Landsat 9\n",
    "# collection = {'name': 'COPERNICUS/S2_SR_HARMONIZED', 'year range': [2017, 2023]} # Sentinel 2A"
   ]
  },
  {
   "cell_type": "code",
   "execution_count": 23,
   "id": "9dae2e5f-d93d-4a32-ba12-2a07f3ca8fa1",
   "metadata": {},
   "outputs": [
    {
     "data": {
      "application/vnd.jupyter.widget-view+json": {
       "model_id": "9dd50bf27d12445b9f01c58fdc06fbf2",
       "version_major": 2,
       "version_minor": 0
      },
      "text/plain": [
       "Map(center=[7.5, -5.5], controls=(WidgetControl(options=['position', 'transparent_bg'], widget=HBox(children=(…"
      ]
     },
     "metadata": {},
     "output_type": "display_data"
    }
   ],
   "source": [
    "map = geemap.Map(center=(7.5, -5.5), zoom=6)\n",
    "region = ee.Geometry.BBox(-9.66, 3.83, -1.28, 11.1)\n",
    "map"
   ]
  },
  {
   "cell_type": "code",
   "execution_count": 37,
   "id": "6adca05a-1b1f-4118-984d-9a7b7dccc51a",
   "metadata": {},
   "outputs": [
    {
     "name": "stdout",
     "output_type": "stream",
     "text": [
      "Downloading 1/121: D:/Books/geopy-notebooks/images\\landsat_1999001.tif\n"
     ]
    },
    {
     "ename": "ImportError",
     "evalue": "Please install geedim using `pip install geedim` or `conda install -c conda-forge geedim`",
     "output_type": "error",
     "traceback": [
      "\u001b[1;31m---------------------------------------------------------------------------\u001b[0m",
      "\u001b[1;31mModuleNotFoundError\u001b[0m                       Traceback (most recent call last)",
      "File \u001b[1;32mC:\\ProgramData\\Anaconda3\\envs\\gee\\lib\\site-packages\\geemap\\common.py:12514\u001b[0m, in \u001b[0;36mdownload_ee_image\u001b[1;34m(image, filename, region, crs, crs_transform, scale, resampling, dtype, overwrite, num_threads, max_tile_size, max_tile_dim, shape, scale_offset, unmask_value, **kwargs)\u001b[0m\n\u001b[0;32m  12513\u001b[0m \u001b[38;5;28;01mtry\u001b[39;00m:\n\u001b[1;32m> 12514\u001b[0m     \u001b[38;5;28;01mimport\u001b[39;00m \u001b[38;5;21;01mgeedim\u001b[39;00m \u001b[38;5;28;01mas\u001b[39;00m \u001b[38;5;21;01mgd\u001b[39;00m\n\u001b[0;32m  12515\u001b[0m \u001b[38;5;28;01mexcept\u001b[39;00m \u001b[38;5;167;01mImportError\u001b[39;00m:\n",
      "\u001b[1;31mModuleNotFoundError\u001b[0m: No module named 'geedim'",
      "\nDuring handling of the above exception, another exception occurred:\n",
      "\u001b[1;31mImportError\u001b[0m                               Traceback (most recent call last)",
      "Cell \u001b[1;32mIn[37], line 24\u001b[0m\n\u001b[0;32m     22\u001b[0m features \u001b[38;5;241m=\u001b[39m geemap\u001b[38;5;241m.\u001b[39mfishnet(region, rows\u001b[38;5;241m=\u001b[39m\u001b[38;5;241m10\u001b[39m, cols\u001b[38;5;241m=\u001b[39m\u001b[38;5;241m10\u001b[39m)\n\u001b[0;32m     23\u001b[0m \u001b[38;5;28mmap\u001b[39m\u001b[38;5;241m.\u001b[39maddLayer(features, {}, \u001b[38;5;124m'\u001b[39m\u001b[38;5;124mGrids\u001b[39m\u001b[38;5;124m'\u001b[39m)\n\u001b[1;32m---> 24\u001b[0m \u001b[43mgeemap\u001b[49m\u001b[38;5;241;43m.\u001b[39;49m\u001b[43mdownload_ee_image_tiles\u001b[49m\u001b[43m(\u001b[49m\u001b[43mdataset\u001b[49m\u001b[43m,\u001b[49m\u001b[43m \u001b[49m\u001b[43mfeatures\u001b[49m\u001b[43m,\u001b[49m\u001b[43m \u001b[49m\u001b[43mout_dir\u001b[49m\u001b[43m,\u001b[49m\u001b[43m \u001b[49m\u001b[43mprefix\u001b[49m\u001b[38;5;241;43m=\u001b[39;49m\u001b[38;5;124;43m\"\u001b[39;49m\u001b[38;5;124;43mlandsat_\u001b[39;49m\u001b[38;5;124;43m\"\u001b[39;49m\u001b[38;5;241;43m+\u001b[39;49m\u001b[38;5;28;43mstr\u001b[39;49m\u001b[43m(\u001b[49m\u001b[43myear\u001b[49m\u001b[43m)\u001b[49m\u001b[43m,\u001b[49m\u001b[43m \u001b[49m\u001b[43mcrs\u001b[49m\u001b[38;5;241;43m=\u001b[39;49m\u001b[38;5;124;43m\"\u001b[39;49m\u001b[38;5;124;43mEPSG:4326\u001b[39;49m\u001b[38;5;124;43m\"\u001b[39;49m\u001b[43m)\u001b[49m\n",
      "File \u001b[1;32mC:\\ProgramData\\Anaconda3\\envs\\gee\\lib\\site-packages\\geemap\\common.py:12641\u001b[0m, in \u001b[0;36mdownload_ee_image_tiles\u001b[1;34m(image, features, out_dir, prefix, crs, crs_transform, scale, resampling, dtype, overwrite, num_threads, max_tile_size, max_tile_dim, shape, scale_offset, unmask_value, **kwargs)\u001b[0m\n\u001b[0;32m  12637\u001b[0m filename \u001b[38;5;241m=\u001b[39m os\u001b[38;5;241m.\u001b[39mpath\u001b[38;5;241m.\u001b[39mjoin(\n\u001b[0;32m  12638\u001b[0m     out_dir, \u001b[38;5;124m\"\u001b[39m\u001b[38;5;132;01m{}\u001b[39;00m\u001b[38;5;132;01m{}\u001b[39;00m\u001b[38;5;124m.tif\u001b[39m\u001b[38;5;124m\"\u001b[39m\u001b[38;5;241m.\u001b[39mformat(prefix, \u001b[38;5;28mstr\u001b[39m(i \u001b[38;5;241m+\u001b[39m \u001b[38;5;241m1\u001b[39m)\u001b[38;5;241m.\u001b[39mzfill(\u001b[38;5;28mlen\u001b[39m(\u001b[38;5;28mstr\u001b[39m(count))))\n\u001b[0;32m  12639\u001b[0m )\n\u001b[0;32m  12640\u001b[0m \u001b[38;5;28mprint\u001b[39m(\u001b[38;5;124mf\u001b[39m\u001b[38;5;124m\"\u001b[39m\u001b[38;5;124mDownloading \u001b[39m\u001b[38;5;132;01m{\u001b[39;00mi\u001b[38;5;250m \u001b[39m\u001b[38;5;241m+\u001b[39m\u001b[38;5;250m \u001b[39m\u001b[38;5;241m1\u001b[39m\u001b[38;5;132;01m}\u001b[39;00m\u001b[38;5;124m/\u001b[39m\u001b[38;5;132;01m{\u001b[39;00mcount\u001b[38;5;132;01m}\u001b[39;00m\u001b[38;5;124m: \u001b[39m\u001b[38;5;132;01m{\u001b[39;00mfilename\u001b[38;5;132;01m}\u001b[39;00m\u001b[38;5;124m\"\u001b[39m)\n\u001b[1;32m> 12641\u001b[0m download_ee_image(\n\u001b[0;32m  12642\u001b[0m     image,\n\u001b[0;32m  12643\u001b[0m     filename,\n\u001b[0;32m  12644\u001b[0m     region,\n\u001b[0;32m  12645\u001b[0m     crs,\n\u001b[0;32m  12646\u001b[0m     crs_transform,\n\u001b[0;32m  12647\u001b[0m     scale,\n\u001b[0;32m  12648\u001b[0m     resampling,\n\u001b[0;32m  12649\u001b[0m     dtype,\n\u001b[0;32m  12650\u001b[0m     overwrite,\n\u001b[0;32m  12651\u001b[0m     num_threads,\n\u001b[0;32m  12652\u001b[0m     max_tile_size,\n\u001b[0;32m  12653\u001b[0m     max_tile_dim,\n\u001b[0;32m  12654\u001b[0m     shape,\n\u001b[0;32m  12655\u001b[0m     scale_offset,\n\u001b[0;32m  12656\u001b[0m     unmask_value,\n\u001b[0;32m  12657\u001b[0m     \u001b[38;5;241m*\u001b[39m\u001b[38;5;241m*\u001b[39mkwargs,\n\u001b[0;32m  12658\u001b[0m )\n",
      "File \u001b[1;32mC:\\ProgramData\\Anaconda3\\envs\\gee\\lib\\site-packages\\geemap\\common.py:12516\u001b[0m, in \u001b[0;36mdownload_ee_image\u001b[1;34m(image, filename, region, crs, crs_transform, scale, resampling, dtype, overwrite, num_threads, max_tile_size, max_tile_dim, shape, scale_offset, unmask_value, **kwargs)\u001b[0m\n\u001b[0;32m  12514\u001b[0m     \u001b[38;5;28;01mimport\u001b[39;00m \u001b[38;5;21;01mgeedim\u001b[39;00m \u001b[38;5;28;01mas\u001b[39;00m \u001b[38;5;21;01mgd\u001b[39;00m\n\u001b[0;32m  12515\u001b[0m \u001b[38;5;28;01mexcept\u001b[39;00m \u001b[38;5;167;01mImportError\u001b[39;00m:\n\u001b[1;32m> 12516\u001b[0m     \u001b[38;5;28;01mraise\u001b[39;00m \u001b[38;5;167;01mImportError\u001b[39;00m(\n\u001b[0;32m  12517\u001b[0m         \u001b[38;5;124m\"\u001b[39m\u001b[38;5;124mPlease install geedim using `pip install geedim` or `conda install -c conda-forge geedim`\u001b[39m\u001b[38;5;124m\"\u001b[39m\n\u001b[0;32m  12518\u001b[0m     )\n\u001b[0;32m  12520\u001b[0m \u001b[38;5;28;01mif\u001b[39;00m \u001b[38;5;129;01mnot\u001b[39;00m \u001b[38;5;28misinstance\u001b[39m(image, ee\u001b[38;5;241m.\u001b[39mImage):\n\u001b[0;32m  12521\u001b[0m     \u001b[38;5;28;01mraise\u001b[39;00m \u001b[38;5;167;01mValueError\u001b[39;00m(\u001b[38;5;124m\"\u001b[39m\u001b[38;5;124mimage must be an ee.Image.\u001b[39m\u001b[38;5;124m\"\u001b[39m)\n",
      "\u001b[1;31mImportError\u001b[0m: Please install geedim using `pip install geedim` or `conda install -c conda-forge geedim`"
     ]
    }
   ],
   "source": [
    "visualization = {\n",
    "  'bands': ['SR_B3', 'SR_B2', 'SR_B1'],\n",
    "  'min': 0.0,\n",
    "  'max': 0.3,\n",
    "}\n",
    "\n",
    "out_dir = 'D:/Books/geopy-notebooks/images'\n",
    "\n",
    "for year in np.arange(collection['year range'][0], collection['year range'][1]):\n",
    "    map = geemap.Map()\n",
    "    dataset = ee.ImageCollection('LANDSAT/LE07/C02/T1_L2') \\\n",
    "        .filterDate(str(year)+'-01-01', str(year)+'-12-31') \\\n",
    "        .filterBounds(region) \\\n",
    "        .filter(ee.Filter.lt('CLOUD_COVER',40)) \\\n",
    "        .map(applyScaleFactors).mosaic()\n",
    "\n",
    "    # dataset = dataset\n",
    "    \n",
    "    map.centerObject(region, zoom=7)\n",
    "    map.addLayer(dataset, visualization, 'Annual composite ' +str(year))\n",
    "    \n",
    "    features = geemap.fishnet(region, rows=10, cols=10)\n",
    "    map.addLayer(features, {}, 'Grids')\n",
    "    geemap.download_ee_image_tiles(dataset, features, out_dir, prefix=\"landsat_\"+str(year), crs=\"EPSG:4326\")"
   ]
  },
  {
   "cell_type": "code",
   "execution_count": 32,
   "id": "12af37c5-8b7f-467d-a585-b6730af13763",
   "metadata": {},
   "outputs": [
    {
     "data": {
      "application/vnd.jupyter.widget-view+json": {
       "model_id": "9dd50bf27d12445b9f01c58fdc06fbf2",
       "version_major": 2,
       "version_minor": 0
      },
      "text/plain": [
       "Map(bottom=16003.0, center=[7.461496000493875, -5.469999999999933], controls=(WidgetControl(options=['position…"
      ]
     },
     "metadata": {},
     "output_type": "display_data"
    }
   ],
   "source": [
    "visualization = {\n",
    "  'bands': ['SR_B3', 'SR_B2', 'SR_B1'],\n",
    "  'min': 0.0,\n",
    "  'max': 0.3,\n",
    "}\n",
    "\n",
    "dataset = ee.ImageCollection('LANDSAT/LE07/C02/T1_L2') \\\n",
    "    .filterDate('2000-01-01', '2000-12-31')  \\\n",
    "    .filter(ee.Filter.lt('CLOUD_COVER', 50)) \\\n",
    "    .filterBounds(region) \\\n",
    "    .map(applyScaleFactors).mosaic()\n",
    "\n",
    "map.centerObject(region, zoom=7)\n",
    "map.addLayer(dataset, visualization, 'RGB')\n",
    "map"
   ]
  },
  {
   "cell_type": "code",
   "execution_count": 52,
   "id": "5b48d5d0-9f03-4faf-b2e2-cddd78729b68",
   "metadata": {},
   "outputs": [
    {
     "data": {
      "application/vnd.jupyter.widget-view+json": {
       "model_id": "e9b21c1c3a3a4884bfebd9f59b57bed4",
       "version_major": 2,
       "version_minor": 0
      },
      "text/plain": [
       "Map(center=[7.5, -5.5], controls=(WidgetControl(options=['position', 'transparent_bg'], widget=HBox(children=(…"
      ]
     },
     "metadata": {},
     "output_type": "display_data"
    }
   ],
   "source": [
    "region = ee.Geometry.BBox(-9.66, 3.83, -1.28, 11.1)\n",
    "image = ee.ImageCollection('LANDSAT/LE07/C02/T1_L2').filterBounds(region) \\\n",
    "    .filter(ee.Filter.lt('CLOUDY_PIXEL_PERCENTAGE',20)).median()\n",
    "\n",
    "visualization = {\n",
    "  'bands': ['SR_B3', 'SR_B2', 'SR_B1'],\n",
    "  'min': 0.0,\n",
    "  'max': 0.3,\n",
    "}\n",
    "\n",
    "map = geemap.Map(center=(7.5, -5.5), zoom=6)\n",
    "\n",
    "map.addLayer(image, visualization, 'RGB')\n",
    "map"
   ]
  },
  {
   "cell_type": "code",
   "execution_count": 5,
   "id": "c867b880-182b-4677-a041-5f20e31cd3e5",
   "metadata": {},
   "outputs": [
    {
     "data": {
      "application/vnd.jupyter.widget-view+json": {
       "model_id": "db4fddc9a42f46558ecda6597d35c0b2",
       "version_major": 2,
       "version_minor": 0
      },
      "text/plain": [
       "Map(bottom=4335.0, center=[7.5, -5.5], controls=(WidgetControl(options=['position', 'transparent_bg'], widget=…"
      ]
     },
     "metadata": {},
     "output_type": "display_data"
    }
   ],
   "source": [
    "visualization = {\n",
    "  'min': 0.0,\n",
    "  'max': 0.3,\n",
    "  'bands': ['B4', 'B3', 'B2'],\n",
    "}\n",
    "\n",
    "map.setCenter(-5.5, 7.5, 7)\n",
    "map.addLayer(dataset.median(), visualization, 'RGB')\n",
    "map"
   ]
  },
  {
   "cell_type": "code",
   "execution_count": 10,
   "id": "d3b3632e-c202-41f4-9b2d-06bd476fc5f8",
   "metadata": {},
   "outputs": [
    {
     "name": "stdout",
     "output_type": "stream",
     "text": [
      "Generating URL ...\n",
      "Downloading data from https://earthengine.googleapis.com/v1alpha/projects/earthengine-legacy/thumbnails/a129ca60411e2b30760b9716c2a1a89d-4a66655f35ea513e98269d5acb9a76a7:getPixels\n",
      "Please wait ...\n",
      "Data downloaded to D:\\Books\\geopy-notebooks\\images\\ndvi_median.tif\n"
     ]
    }
   ],
   "source": [
    "image = dataset.median()\n",
    "image_clip = image.clip(roi)\n",
    "\n",
    "filename = 'D:/Books/geopy-notebooks/images/ndvi_median.tif'\n",
    "\n",
    "geemap.ee_export_image(image_clip, filename=filename, region=roi, file_per_band=False)"
   ]
  }
 ],
 "metadata": {
  "kernelspec": {
   "display_name": "Python 3 (ipykernel)",
   "language": "python",
   "name": "python3"
  },
  "language_info": {
   "codemirror_mode": {
    "name": "ipython",
    "version": 3
   },
   "file_extension": ".py",
   "mimetype": "text/x-python",
   "name": "python",
   "nbconvert_exporter": "python",
   "pygments_lexer": "ipython3",
   "version": "3.9.15"
  }
 },
 "nbformat": 4,
 "nbformat_minor": 5
}
