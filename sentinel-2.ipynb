{
 "cells": [
  {
   "cell_type": "code",
   "execution_count": 1,
   "id": "ecc2e3a4-46d6-43a5-bd9e-8e2ace4eef00",
   "metadata": {},
   "outputs": [],
   "source": [
    "import geemap \n",
    "import os \n",
    "import ee"
   ]
  },
  {
   "cell_type": "markdown",
   "id": "4e03353b-b82f-42dd-a3a8-e6ea19378828",
   "metadata": {},
   "source": [
    "## Draw map centered on Ivory Coast\n",
    "- We can draw a region of interest to spatially filter the data "
   ]
  },
  {
   "cell_type": "code",
   "execution_count": 2,
   "id": "9dae2e5f-d93d-4a32-ba12-2a07f3ca8fa1",
   "metadata": {},
   "outputs": [
    {
     "data": {
      "application/vnd.jupyter.widget-view+json": {
       "model_id": "db4fddc9a42f46558ecda6597d35c0b2",
       "version_major": 2,
       "version_minor": 0
      },
      "text/plain": [
       "Map(center=[7.5, -5.5], controls=(WidgetControl(options=['position', 'transparent_bg'], widget=HBox(children=(…"
      ]
     },
     "metadata": {},
     "output_type": "display_data"
    }
   ],
   "source": [
    "map = geemap.Map(center=(7.5, -5.5), zoom=6)\n",
    "map"
   ]
  },
  {
   "cell_type": "code",
   "execution_count": 3,
   "id": "bcbf5ae4-ad0b-4f26-b144-b16669c2b1a3",
   "metadata": {},
   "outputs": [
    {
     "data": {
      "text/plain": [
       "{'type': 'Polygon',\n",
       " 'coordinates': [[[-9.430375, 3.902618],\n",
       "   [-1.477536, 3.902618],\n",
       "   [-1.477536, 11.000512],\n",
       "   [-9.430375, 11.000512],\n",
       "   [-9.430375, 3.902618]]]}"
      ]
     },
     "execution_count": 3,
     "metadata": {},
     "output_type": "execute_result"
    }
   ],
   "source": [
    "roi = map.user_roi\n",
    "roi.getInfo()"
   ]
  },
  {
   "cell_type": "code",
   "execution_count": 4,
   "id": "86f4b519-0a8f-4bfd-9bad-a67c17b3ee10",
   "metadata": {},
   "outputs": [],
   "source": [
    "#*\n",
    " # Function to mask clouds using the Sentinel-2 QA band\n",
    " # @param {ee.Image} image Sentinel-2 image\n",
    " # @return {ee.Image} cloud masked Sentinel-2 image\n",
    " #\n",
    "def maskS2clouds(image):\n",
    "  qa = image.select('QA60')\n",
    "\n",
    "  # Bits 10 and 11 are clouds and cirrus, respectively.\n",
    "  cloudBitMask = 1 << 10\n",
    "  cirrusBitMask = 1 << 11\n",
    "\n",
    "  # Both flags should be set to zero, indicating clear conditions.\n",
    "  mask = qa.bitwiseAnd(cloudBitMask).eq(0) \\\n",
    "      .And(qa.bitwiseAnd(cirrusBitMask).eq(0))\n",
    "\n",
    "  return image.updateMask(mask).divide(10000)\n",
    "\n",
    "\n",
    "dataset = ee.ImageCollection('COPERNICUS/S2_SR_HARMONIZED').filterBounds(roi)\n",
    "\n",
    "# print(dataset.getInfo())\n",
    "\n",
    "dataset = dataset.filter(ee.Filter.lt('CLOUDY_PIXEL_PERCENTAGE',20)) \\\n",
    "                 .map(maskS2clouds)"
   ]
  },
  {
   "cell_type": "code",
   "execution_count": 5,
   "id": "c867b880-182b-4677-a041-5f20e31cd3e5",
   "metadata": {},
   "outputs": [
    {
     "data": {
      "application/vnd.jupyter.widget-view+json": {
       "model_id": "db4fddc9a42f46558ecda6597d35c0b2",
       "version_major": 2,
       "version_minor": 0
      },
      "text/plain": [
       "Map(bottom=4335.0, center=[7.5, -5.5], controls=(WidgetControl(options=['position', 'transparent_bg'], widget=…"
      ]
     },
     "metadata": {},
     "output_type": "display_data"
    }
   ],
   "source": [
    "visualization = {\n",
    "  'min': 0.0,\n",
    "  'max': 0.3,\n",
    "  'bands': ['B4', 'B3', 'B2'],\n",
    "}\n",
    "\n",
    "map.setCenter(-5.5, 7.5, 7)\n",
    "map.addLayer(dataset.median(), visualization, 'RGB')\n",
    "map"
   ]
  },
  {
   "cell_type": "code",
   "execution_count": 6,
   "id": "fa20a324-e8e3-4622-9123-31ea0acc2595",
   "metadata": {},
   "outputs": [],
   "source": [
    "nir = dataset.median().select('B5')\n",
    "red = dataset.median().select('B4')\n",
    "ndvi = nir.subtract(red).divide(nir.add(red)).rename('NDVI')"
   ]
  },
  {
   "cell_type": "code",
   "execution_count": 7,
   "id": "23ad983d-5555-4575-9950-82873a1e2444",
   "metadata": {},
   "outputs": [],
   "source": [
    "ndvi_viz = {\n",
    "    'min': 0.,\n",
    "    'max': .4,\n",
    "    'bands':['NDVI'], \n",
    "}"
   ]
  },
  {
   "cell_type": "code",
   "execution_count": 8,
   "id": "a9f5137c-df1c-44e3-b0c1-cd3c16800753",
   "metadata": {},
   "outputs": [
    {
     "data": {
      "application/vnd.jupyter.widget-view+json": {
       "model_id": "db4fddc9a42f46558ecda6597d35c0b2",
       "version_major": 2,
       "version_minor": 0
      },
      "text/plain": [
       "Map(bottom=4178.0, center=[7.5, -5.5], controls=(WidgetControl(options=['position', 'transparent_bg'], widget=…"
      ]
     },
     "metadata": {},
     "output_type": "display_data"
    }
   ],
   "source": [
    "map.setCenter(-5.5, 7.5, 7)\n",
    "map.addLayer(ndvi, ndvi_viz, 'false color composite')\n",
    "map"
   ]
  },
  {
   "cell_type": "code",
   "execution_count": 9,
   "id": "5ec21f71-f158-4852-964c-95210fa48367",
   "metadata": {},
   "outputs": [
    {
     "data": {
      "text/plain": [
       "{'type': 'Polygon',\n",
       " 'coordinates': [[[-8.318947, 5.235141],\n",
       "   [-8.099255, 5.235141],\n",
       "   [-8.099255, 5.388289],\n",
       "   [-8.318947, 5.388289],\n",
       "   [-8.318947, 5.235141]]]}"
      ]
     },
     "execution_count": 9,
     "metadata": {},
     "output_type": "execute_result"
    }
   ],
   "source": [
    "roi = map.user_roi\n",
    "roi.getInfo()"
   ]
  },
  {
   "cell_type": "code",
   "execution_count": 10,
   "id": "d3b3632e-c202-41f4-9b2d-06bd476fc5f8",
   "metadata": {},
   "outputs": [
    {
     "name": "stdout",
     "output_type": "stream",
     "text": [
      "Generating URL ...\n",
      "Downloading data from https://earthengine.googleapis.com/v1alpha/projects/earthengine-legacy/thumbnails/a129ca60411e2b30760b9716c2a1a89d-4a66655f35ea513e98269d5acb9a76a7:getPixels\n",
      "Please wait ...\n",
      "Data downloaded to D:\\Books\\geopy-notebooks\\images\\ndvi_median.tif\n"
     ]
    }
   ],
   "source": [
    "image = dataset.median()\n",
    "image_clip = image.clip(roi)\n",
    "\n",
    "filename = 'D:/Books/geopy-notebooks/images/ndvi_median.tif'\n",
    "\n",
    "geemap.ee_export_image(image_clip, filename=filename, region=roi, file_per_band=False)"
   ]
  }
 ],
 "metadata": {
  "kernelspec": {
   "display_name": "Python 3 (ipykernel)",
   "language": "python",
   "name": "python3"
  },
  "language_info": {
   "codemirror_mode": {
    "name": "ipython",
    "version": 3
   },
   "file_extension": ".py",
   "mimetype": "text/x-python",
   "name": "python",
   "nbconvert_exporter": "python",
   "pygments_lexer": "ipython3",
   "version": "3.9.15"
  }
 },
 "nbformat": 4,
 "nbformat_minor": 5
}
